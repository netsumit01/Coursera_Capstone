{
 "cells": [
  {
   "cell_type": "markdown",
   "metadata": {},
   "source": [
    "# Business Problem Car Accident Severity\n"
   ]
  },
  {
   "cell_type": "markdown",
   "metadata": {},
   "source": [
    "## Introduction: \n",
    "The purpose of this project is to help SPD in finding and exploring ways to predict the severity facilitate the best models to avoid future car accidents. We could also help with various relationships and within the given parameters and provide the best report. \n",
    "\n",
    "The project aims to create an analysis of the collision dataset, measure the severity of these accidents within the dataset and related impacts. It aims to help the PD to make informed decisions in reducing the number of accidents. We will be working with a dataset of the accidents that occurred since 2004\n",
    "\n",
    "The target audience of the project are departments of the government and the SPD. This project might to a certain extent help the insurance and transportation companies to some extent. It will help people to get awareness and real insights and possibly take action to reduce the number of accidents.\n",
    "\n",
    "We will also be looking at attributes like weather, visibility, or road conditions that play a huge impact on accidents and how could local administration work ahead minimize the risks in the future. \n"
   ]
  },
  {
   "cell_type": "code",
   "execution_count": null,
   "metadata": {},
   "outputs": [],
   "source": []
  }
 ],
 "metadata": {
  "kernelspec": {
   "display_name": "Python 3",
   "language": "python",
   "name": "python3"
  },
  "language_info": {
   "codemirror_mode": {
    "name": "ipython",
    "version": 3
   },
   "file_extension": ".py",
   "mimetype": "text/x-python",
   "name": "python",
   "nbconvert_exporter": "python",
   "pygments_lexer": "ipython3",
   "version": "3.7.6"
  }
 },
 "nbformat": 4,
 "nbformat_minor": 4
}
