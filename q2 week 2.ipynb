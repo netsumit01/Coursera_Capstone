{
 "cells": [
  {
   "cell_type": "markdown",
   "metadata": {},
   "source": [
    "## Data Understanding:\n",
    "\n",
    "Dataset contains several attributes such as:\n",
    "1. SEVERITYCODE\n",
    "2. X\n",
    "3. Y\n",
    "4. OBJECTID\n",
    "5. INCKEY\n",
    "6. COLDETKEY\n",
    "7. REPORTNO\n",
    "8. STATUS\n",
    "9. ADDRTYPE\n",
    "10. INTKEY\n",
    "11. LOCATION\n",
    "12. EXCEPTRSNCODE\n",
    "13. EXCEPTRSNDESC\n",
    "14. SEVERITYCODE.1\n",
    "15. SEVERITYDESC\n",
    "16. COLLISIONTYPE\n",
    "17. PERSONCOUNT\n",
    "18. PEDCOUNT\n",
    "19. PEDCYLCOUNT\n",
    "20. VEHCOUNT\n",
    "21. INCDATE\n",
    "22. INCDTTM\n",
    "23. JUNCTIONTYPE\n",
    "24. SDOT_COLCODE\n",
    "25. SDOR_COLDESC\n",
    "26. INATTENTIONIND\n",
    "27. UNDERINFL\n",
    "28. WEATHER\n",
    "29. ROADCOND\n",
    "30. LIGHTCOND\n",
    "31. PEDROWNOTGRNT\n",
    "32. SDOTCOLUMN\n",
    "33. SPEEDING\n",
    "34. ST_COLCODE\n",
    "35. ST_COLDESC\n",
    "36. SEGLANEKEY\n",
    "37. CROSSWALKKEY\n",
    "38. HITPARKEDCAR\n",
    "\n"
   ]
  },
  {
   "cell_type": "markdown",
   "metadata": {},
   "source": [
    "## Data Preparation:\n",
    "\n",
    "The target variable we will be considering for the analysis will be - **'SEVERITYCODE'** as it used to depict the severity of the accident. The same is denoted as  0 or 1 within the dataset;\n",
    "where \n",
    "* \"0\" denotes Property damage   \n",
    "* \"1\" denotes Severe Injury\n",
    "\n",
    "### Attributes\n",
    "\n",
    "We analyzed that the attributes used to describe the severity of an accident are:\n",
    "* **\"WEATHER\"**\n",
    "* **\"ROADCOND\"**\n",
    "* **\"ADDRTYPE\"**\n",
    "* **\"COLLISIONTYPE\"**\n",
    "* **\"LIGHTCOND\"**\n"
   ]
  },
  {
   "cell_type": "markdown",
   "metadata": {},
   "source": [
    "## Data Cleaning\n",
    "\n",
    "The data needs to be cleanned as it is not fit for analysis. There are unncessary columns and also the datatypes needs changing."
   ]
  },
  {
   "cell_type": "code",
   "execution_count": null,
   "metadata": {},
   "outputs": [],
   "source": []
  }
 ],
 "metadata": {
  "kernelspec": {
   "display_name": "Python 3",
   "language": "python",
   "name": "python3"
  },
  "language_info": {
   "codemirror_mode": {
    "name": "ipython",
    "version": 3
   },
   "file_extension": ".py",
   "mimetype": "text/x-python",
   "name": "python",
   "nbconvert_exporter": "python",
   "pygments_lexer": "ipython3",
   "version": "3.7.6"
  }
 },
 "nbformat": 4,
 "nbformat_minor": 4
}
